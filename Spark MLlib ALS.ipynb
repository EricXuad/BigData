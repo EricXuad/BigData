{
 "cells": [
  {
   "cell_type": "code",
   "execution_count": 1,
   "metadata": {},
   "outputs": [
    {
     "data": {
      "text/plain": [
       "100000"
      ]
     },
     "execution_count": 1,
     "metadata": {},
     "output_type": "execute_result"
    }
   ],
   "source": [
    "rawUserData=sc.textFile(\"hdfs://127.0.0.1:9000/ml-100k/u.data\")\n",
    "rawUserData.count()"
   ]
  },
  {
   "cell_type": "code",
   "execution_count": 2,
   "metadata": {},
   "outputs": [
    {
     "data": {
      "text/plain": [
       "'196\\t242\\t3\\t881250949'"
      ]
     },
     "execution_count": 2,
     "metadata": {},
     "output_type": "execute_result"
    }
   ],
   "source": [
    "rawUserData.first()\n",
    "#User id, Project id, Rate, Data"
   ]
  },
  {
   "cell_type": "code",
   "execution_count": 6,
   "metadata": {},
   "outputs": [
    {
     "data": {
      "text/plain": [
       "[['196', '242', '3'],\n",
       " ['186', '302', '3'],\n",
       " ['22', '377', '1'],\n",
       " ['244', '51', '2'],\n",
       " ['166', '346', '1']]"
      ]
     },
     "execution_count": 6,
     "metadata": {},
     "output_type": "execute_result"
    }
   ],
   "source": [
    "from pyspark.mllib.recommendation import Rating\n",
    "\n",
    "#get [:3] : User id, Project id, Rate\n",
    "rawRatings=rawUserData.map(lambda line:line.split(\"\\t\")[:3])\n",
    "rawRatings.take(5)"
   ]
  },
  {
   "cell_type": "code",
   "execution_count": 10,
   "metadata": {},
   "outputs": [
    {
     "data": {
      "text/plain": [
       "[('196', '242', '3'),\n",
       " ('186', '302', '3'),\n",
       " ('22', '377', '1'),\n",
       " ('244', '51', '2'),\n",
       " ('166', '346', '1')]"
      ]
     },
     "execution_count": 10,
     "metadata": {},
     "output_type": "execute_result"
    }
   ],
   "source": [
    "#prepare ALS training data\n",
    "ratingsRDD=rawRatings.map(lambda x:(x[0],x[1],x[2]))\n",
    "ratingsRDD.take(5)\n"
   ]
  },
  {
   "cell_type": "code",
   "execution_count": 11,
   "metadata": {},
   "outputs": [
    {
     "data": {
      "text/plain": [
       "100000"
      ]
     },
     "execution_count": 11,
     "metadata": {},
     "output_type": "execute_result"
    }
   ],
   "source": [
    "numRatings=ratingsRDD.count()\n",
    "numRatings"
   ]
  },
  {
   "cell_type": "code",
   "execution_count": 12,
   "metadata": {},
   "outputs": [
    {
     "data": {
      "text/plain": [
       "943"
      ]
     },
     "execution_count": 12,
     "metadata": {},
     "output_type": "execute_result"
    }
   ],
   "source": [
    "numUsers=ratingsRDD.map(lambda x:x[0]).distinct().count()\n",
    "numUsers"
   ]
  },
  {
   "cell_type": "code",
   "execution_count": 14,
   "metadata": {},
   "outputs": [
    {
     "data": {
      "text/plain": [
       "1682"
      ]
     },
     "execution_count": 14,
     "metadata": {},
     "output_type": "execute_result"
    }
   ],
   "source": [
    "numMovies=ratingsRDD.map(lambda x:x[1]).distinct().count()\n",
    "numMovies"
   ]
  },
  {
   "cell_type": "code",
   "execution_count": 16,
   "metadata": {},
   "outputs": [
    {
     "name": "stdout",
     "output_type": "stream",
     "text": [
      "<pyspark.mllib.recommendation.MatrixFactorizationModel object at 0x7f0c50ebb390>\n"
     ]
    }
   ],
   "source": [
    "#traning model\n",
    "from pyspark.mllib.recommendation import ALS\n",
    "model=ALS.train(ratingsRDD,10,10,0.01)\n",
    "print(model)"
   ]
  },
  {
   "cell_type": "code",
   "execution_count": 17,
   "metadata": {},
   "outputs": [
    {
     "data": {
      "text/plain": [
       "[Rating(user=100, product=1512, rating=6.290521379386166),\n",
       " Rating(user=100, product=865, rating=6.191215745388112),\n",
       " Rating(user=100, product=1503, rating=6.156079244343146),\n",
       " Rating(user=100, product=1094, rating=6.073465595675719),\n",
       " Rating(user=100, product=1157, rating=6.065513082601354)]"
      ]
     },
     "execution_count": 17,
     "metadata": {},
     "output_type": "execute_result"
    }
   ],
   "source": [
    "model.recommendProducts(100,5)"
   ]
  },
  {
   "cell_type": "code",
   "execution_count": 18,
   "metadata": {},
   "outputs": [
    {
     "data": {
      "text/plain": [
       "4.319059020931728"
      ]
     },
     "execution_count": 18,
     "metadata": {},
     "output_type": "execute_result"
    }
   ],
   "source": [
    "model.predict(100,1141)"
   ]
  },
  {
   "cell_type": "code",
   "execution_count": 19,
   "metadata": {},
   "outputs": [
    {
     "data": {
      "text/plain": [
       "[Rating(user=362, product=100, rating=6.701001121214192),\n",
       " Rating(user=34, product=100, rating=6.358904269946141),\n",
       " Rating(user=448, product=100, rating=6.006002080879295),\n",
       " Rating(user=820, product=100, rating=5.894339758881064),\n",
       " Rating(user=772, product=100, rating=5.846718246599149)]"
      ]
     },
     "execution_count": 19,
     "metadata": {},
     "output_type": "execute_result"
    }
   ],
   "source": [
    "model.recommendUsers(product=100,num=5)"
   ]
  },
  {
   "cell_type": "code",
   "execution_count": 20,
   "metadata": {},
   "outputs": [
    {
     "data": {
      "text/plain": [
       "1682"
      ]
     },
     "execution_count": 20,
     "metadata": {},
     "output_type": "execute_result"
    }
   ],
   "source": [
    "itemsRDD=sc.textFile(\"hdfs://127.0.0.1:9000/ml-100k/u.item\")\n",
    "itemsRDD.count()"
   ]
  },
  {
   "cell_type": "code",
   "execution_count": 21,
   "metadata": {},
   "outputs": [
    {
     "data": {
      "text/plain": [
       "1682"
      ]
     },
     "execution_count": 21,
     "metadata": {},
     "output_type": "execute_result"
    }
   ],
   "source": [
    "movieTitle=itemsRDD.map(lambda line:line.split(\"|\")).map(lambda a:(float(a[0]),a[1])).collectAsMap()\n",
    "len(movieTitle)"
   ]
  },
  {
   "cell_type": "code",
   "execution_count": 23,
   "metadata": {},
   "outputs": [
    {
     "name": "stdout",
     "output_type": "stream",
     "text": [
      "对用户:100,推荐电影: World of Apu, The (Apur Sansar) (1959),推荐评分:6.290521379386166\n",
      "对用户:100,推荐电影: Ice Storm, The (1997),推荐评分:6.191215745388112\n",
      "对用户:100,推荐电影: Gold Diggers: The Secret of Bear Mountain (1995),推荐评分:6.156079244343146\n",
      "对用户:100,推荐电影: Thin Line Between Love and Hate, A (1996),推荐评分:6.073465595675719\n",
      "对用户:100,推荐电影: Relic, The (1997),推荐评分:6.065513082601354\n"
     ]
    }
   ],
   "source": [
    "recommendP=model.recommendProducts(100,5)\n",
    "for p in recommendP:\n",
    "    print(\"对用户:\"+str(p[0])+\",推荐电影: \"+str(movieTitle[p[1]])+\",推荐评分:\"+str(p[2]))"
   ]
  },
  {
   "cell_type": "code",
   "execution_count": 24,
   "metadata": {},
   "outputs": [
    {
     "name": "stdout",
     "output_type": "stream",
     "text": [
      "对用户:10,推荐电影: Pather Panchali (1955),推荐评分:5.7628261365182345\n",
      "对用户:10,推荐电影: Angel Baby (1995),推荐评分:5.667407892712781\n",
      "对用户:10,推荐电影: Boys, Les (1997),推荐评分:5.460790042228479\n",
      "对用户:10,推荐电影: Fresh (1994),推荐评分:5.30026421679077\n",
      "对用户:10,推荐电影: So Dear to My Heart (1949),推荐评分:5.288921446286993\n"
     ]
    }
   ],
   "source": [
    "recommendP=model.recommendProducts(10,5)\n",
    "for p in recommendP:\n",
    "    print(\"对用户:\"+str(p[0])+\",推荐电影: \"+str(movieTitle[p[1]])+\",推荐评分:\"+str(p[2]))"
   ]
  },
  {
   "cell_type": "code",
   "execution_count": null,
   "metadata": {},
   "outputs": [],
   "source": []
  }
 ],
 "metadata": {
  "kernelspec": {
   "display_name": "Python 3",
   "language": "python",
   "name": "python3"
  },
  "language_info": {
   "codemirror_mode": {
    "name": "ipython",
    "version": 3
   },
   "file_extension": ".py",
   "mimetype": "text/x-python",
   "name": "python",
   "nbconvert_exporter": "python",
   "pygments_lexer": "ipython3",
   "version": "3.7.3"
  }
 },
 "nbformat": 4,
 "nbformat_minor": 2
}
